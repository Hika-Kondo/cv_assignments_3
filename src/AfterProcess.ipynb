{
 "cells": [
  {
   "cell_type": "code",
   "execution_count": null,
   "metadata": {},
   "outputs": [],
   "source": [
    "import torch\n",
    "import torch.nn as nn\n",
    "import torchvision\n",
    "import numpy as np\n",
    "import matplotlib.pyplot as  plt\n",
    "\n",
    "from models import Generator, Discriminator\n",
    "\n",
    "x = torch.randn((64,100,1,1)).to(\"cpu\")\n",
    "def generate_sample():\n",
    "    \n",
    "    # 64枚生成する\n",
    "    images = generator(x)\n",
    "    torchvision.utils.save_image((images+1)/2, \"gene_im.png\")\n",
    "#     plt.imshow(\"gene_im.png\")\n",
    "\n",
    "path = \"../res/outputs/2020-12-04/05-23-40/model/ generator.pt\"\n",
    "\n",
    "generator = Generator()\n",
    "generator.load_state_dict(torch.load(path,map_location=torch.device('cpu')))\n",
    "# generator.to(\"cpu\")\n",
    "\n",
    "generate_sample()\n",
    "\n",
    "\n",
    "\n",
    "for i in range(64):\n",
    "    print(i)\n",
    "    temp = x[i].numpy()\n",
    "    plt.plot(temp.reshape(-1))\n",
    "    plt.show()\n",
    "    plt.hist(temp.reshape(-1))\n",
    "    plt.show()"
   ]
  },
  {
   "cell_type": "code",
   "execution_count": null,
   "metadata": {},
   "outputs": [],
   "source": [
    "# generate intermidiate image\n",
    "# _x = (x[0] + x[1]) / 2\n",
    "# _x = torch.reshape(_x, (1,_x.size()[0], _x.size()[1], _x.size()[2]))\n",
    "\n",
    "_x = torch.Tensor(10,100,1,1)\n",
    "\n",
    "for i in range(10):\n",
    "    _x[i] = x[0] * (i/10) + x[1] * (1 - i /10)\n",
    "\n",
    "# _x = torch.FloatTensor([x[0] * (i/10) + x[1] * (1 - i /10) for i in range(10)])\n",
    "\n",
    "out = generator(x)\n",
    "torchvision.utils.save_image(out, \"batch.png\")\n",
    "\n",
    "out = generator(_x)\n",
    "torchvision.utils.save_image((out+1)/2, \"fusion.png\")\n",
    "\n",
    "# out = generator(_x)\n",
    "# torchvision.utils.save_image((out+1)/2, \"_x.png\")"
   ]
  }
 ],
 "metadata": {
  "kernelspec": {
   "display_name": "Python 3",
   "language": "python",
   "name": "python3"
  },
  "language_info": {
   "codemirror_mode": {
    "name": "ipython",
    "version": 3
   },
   "file_extension": ".py",
   "mimetype": "text/x-python",
   "name": "python",
   "nbconvert_exporter": "python",
   "pygments_lexer": "ipython3",
   "version": "3.8.5"
  }
 },
 "nbformat": 4,
 "nbformat_minor": 4
}
